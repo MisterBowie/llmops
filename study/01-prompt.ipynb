{
 "cells": [
  {
   "cell_type": "code",
   "id": "initial_id",
   "metadata": {
    "collapsed": true,
    "ExecuteTime": {
     "end_time": "2025-03-20T07:54:07.341271Z",
     "start_time": "2025-03-20T07:54:06.944675Z"
    }
   },
   "source": [
    "from langchain_core.prompts import PromptTemplate, ChatPromptTemplate\n",
    "\n",
    "prompt = PromptTemplate.from_template(\"请讲一个关于{subject}的笑话\")\n",
    "print(prompt.format(subject=\"程序员\"))"
   ],
   "outputs": [
    {
     "name": "stdout",
     "output_type": "stream",
     "text": [
      "请讲一个关于程序员的笑话\n"
     ]
    }
   ],
   "execution_count": 1
  },
  {
   "metadata": {},
   "cell_type": "markdown",
   "source": "## 基础用法",
   "id": "bb9eb995f4904fc2"
  },
  {
   "metadata": {
    "ExecuteTime": {
     "end_time": "2025-03-20T08:02:55.634490Z",
     "start_time": "2025-03-20T08:02:55.626741Z"
    }
   },
   "cell_type": "code",
   "source": [
    "from datetime import datetime\n",
    "from langchain_core.messages import AIMessage\n",
    "from langchain_core.prompts import (\n",
    "    PromptTemplate, ChatPromptTemplate, HumanMessagePromptTemplate, MessagesPlaceholder\n",
    ")\n",
    "\n",
    "prompt = PromptTemplate.from_template(\"请讲一个关于{subject}的笑话\")\n",
    "\n",
    "prompt_str = prompt.format(subject=\"程序员\")\n",
    "\n",
    "print(prompt + \"\\n\")\n",
    "print(prompt_str + \"\\n\")\n",
    "print(\"==========\\n\")\n",
    "\n",
    "chat_prompt = ChatPromptTemplate.from_messages([\n",
    "    (\"system\", \"你是一个聊天机器人,请根据用户的提问进行回复,当前时间是:{now}\"),\n",
    "    MessagesPlaceholder(\"chat_history\"),\n",
    "    HumanMessagePromptTemplate.from_template(\"请讲一个{subject}的冷笑话\")\n",
    "]).partial(now=datetime.now())\n",
    "\n",
    "chat_prompt_value = chat_prompt.invoke({\n",
    "    \"subject\": \"程序员\",\n",
    "    \"chat_history\": [\n",
    "        (\"human\", \"我叫母校可\"),\n",
    "        AIMessage(\"我是Chatgpt，有什么能帮到你的?\")\n",
    "    ]\n",
    "})\n",
    "print(\"chat_prompt\", chat_prompt)\n",
    "print(\"==========\\n\")\n",
    "print(chat_prompt_value)\n",
    "print(\"==========\\n\")\n",
    "print(chat_prompt_value.to_messages())\n",
    "print(\"==========\\n\")\n",
    "print(chat_prompt_value.to_string())"
   ],
   "id": "25d98bfedc7877d",
   "outputs": [
    {
     "name": "stdout",
     "output_type": "stream",
     "text": [
      "input_variables=['subject'] template='请讲一个关于{subject}的笑话\\n'\n",
      "请讲一个关于程序员的笑话\n",
      "\n",
      "==========\n",
      "\n",
      "chat_prompt input_variables=['chat_history', 'subject'] input_types={'chat_history': typing.List[typing.Union[langchain_core.messages.ai.AIMessage, langchain_core.messages.human.HumanMessage, langchain_core.messages.chat.ChatMessage, langchain_core.messages.system.SystemMessage, langchain_core.messages.function.FunctionMessage, langchain_core.messages.tool.ToolMessage]]} partial_variables={'now': datetime.datetime(2025, 3, 20, 16, 2, 55, 631092)} messages=[SystemMessagePromptTemplate(prompt=PromptTemplate(input_variables=['now'], template='你是一个聊天机器人,请根据用户的提问进行回复,当前时间是:{now}')), MessagesPlaceholder(variable_name='chat_history'), HumanMessagePromptTemplate(prompt=PromptTemplate(input_variables=['subject'], template='请讲一个{subject}的冷笑话'))]\n",
      "==========\n",
      "\n",
      "messages=[SystemMessage(content='你是一个聊天机器人,请根据用户的提问进行回复,当前时间是:2025-03-20 16:02:55.631092'), HumanMessage(content='我叫母校可'), AIMessage(content='我是Chatgpt，有什么能帮到你的?'), HumanMessage(content='请讲一个程序员的冷笑话')]\n",
      "==========\n",
      "\n",
      "[SystemMessage(content='你是一个聊天机器人,请根据用户的提问进行回复,当前时间是:2025-03-20 16:02:55.631092'), HumanMessage(content='我叫母校可'), AIMessage(content='我是Chatgpt，有什么能帮到你的?'), HumanMessage(content='请讲一个程序员的冷笑话')]\n",
      "==========\n",
      "\n",
      "System: 你是一个聊天机器人,请根据用户的提问进行回复,当前时间是:2025-03-20 16:02:55.631092\n",
      "Human: 我叫母校可\n",
      "AI: 我是Chatgpt，有什么能帮到你的?\n",
      "Human: 请讲一个程序员的冷笑话\n"
     ]
    }
   ],
   "execution_count": 6
  },
  {
   "metadata": {},
   "cell_type": "markdown",
   "source": "## 复用提示模板",
   "id": "f86bc994962d7087"
  },
  {
   "metadata": {
    "ExecuteTime": {
     "end_time": "2025-03-20T08:20:48.202336Z",
     "start_time": "2025-03-20T08:20:48.192785Z"
    }
   },
   "cell_type": "code",
   "source": [
    "from langchain_core.prompts import PipelinePromptTemplate, PromptTemplate\n",
    "\n",
    "full_template = \"\"\"\n",
    "{instruction}\n",
    "\n",
    "{example}\n",
    "\n",
    "{start}\n",
    "\"\"\"\n",
    "full_prompt = PromptTemplate.from_template(full_template)\n",
    "\n",
    "#描述提示模板\n",
    "instruction_template = \"你在模拟{person}\"\n",
    "\n",
    "instruction_prompt = PromptTemplate.from_template(instruction_template)\n",
    "\n",
    "example_template = \"\"\"下面是一个交互的例子:\n",
    "Q:{example_q}\n",
    "A:{example_a}\n",
    "\"\"\"\n",
    "example_prompt = PromptTemplate.from_template(example_template)\n",
    "\n",
    "#开始提示模板\n",
    "start_template = \"\"\"现在你是一个真实的人，请回答用户的问题\n",
    "Q:{input}\n",
    "A:\"\"\"\n",
    "start_prompt = PromptTemplate.from_template(start_template)\n",
    "\n",
    "input_prompts = [\n",
    "    (\"example\", example_prompt),\n",
    "    (\"instruction\", instruction_prompt),\n",
    "    (\"start\", start_prompt)\n",
    "]\n",
    "pipeline_prompt = PipelinePromptTemplate(final_prompt=full_prompt, pipeline_prompts=input_prompts)\n",
    "print(pipeline_prompt.format(\n",
    "    person=\"雷军\",\n",
    "    example_q=\"你最喜欢的骑车是什么?\",\n",
    "    example_a=\"su7\",\n",
    "    input=\"你最喜欢的手机是什么?\"\n",
    "))\n"
   ],
   "id": "b4dcdf592acbba20",
   "outputs": [
    {
     "name": "stdout",
     "output_type": "stream",
     "text": [
      "\n",
      "你在模拟雷军\n",
      "\n",
      "下面是一个交互的例子:\n",
      "Q:你最喜欢的骑车是什么?\n",
      "A:su7\n",
      "\n",
      "\n",
      "现在你是一个真实的人，请回答用户的问题\n",
      "Q:你最喜欢的手机是什么?\n",
      "A:\n",
      "\n"
     ]
    }
   ],
   "execution_count": 8
  }
 ],
 "metadata": {
  "kernelspec": {
   "display_name": "Python 3",
   "language": "python",
   "name": "python3"
  },
  "language_info": {
   "codemirror_mode": {
    "name": "ipython",
    "version": 2
   },
   "file_extension": ".py",
   "mimetype": "text/x-python",
   "name": "python",
   "nbconvert_exporter": "python",
   "pygments_lexer": "ipython2",
   "version": "2.7.6"
  }
 },
 "nbformat": 4,
 "nbformat_minor": 5
}
